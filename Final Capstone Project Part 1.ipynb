{
    "nbformat_minor": 1, 
    "cells": [
        {
            "source": "# Capstone Project", 
            "cell_type": "markdown", 
            "metadata": {}
        }, 
        {
            "source": "### Week 4: Peer-graded Assignment: Capstone Project - The Battle of Neighborhoods (Week 1)", 
            "cell_type": "markdown", 
            "metadata": {}
        }, 
        {
            "source": "#### A description of the problem and a discussion of the background. (15 marks)\n", 
            "cell_type": "markdown", 
            "metadata": {}
        }, 
        {
            "source": "#### Background", 
            "cell_type": "markdown", 
            "metadata": {}
        }, 
        {
            "source": "\"A Big Catering Company\" (ABC Company) is a medium sized catering company based in Hong Kong, which owns 1 steak house and 10 Japanese restaurants in Hong Kong island. In 2019, ABC Company is going to open a restaurant at \"Tseung Kwan O\", where is a fast growing residental area locates at the eastern part of Kowloon Penisula. \n\nAs the rent in Hong Kong is extremely high, ABC company decides to use Data Science techniques to produce more insights that are helpful for senior management to determine where is the most profit making place and what kind of food that welcomed by the surrounding residents most.", 
            "cell_type": "markdown", 
            "metadata": {}
        }, 
        {
            "source": "#### Business Problem", 
            "cell_type": "markdown", 
            "metadata": {}
        }, 
        {
            "source": "Since last year, there are over a half million of population moved into Tseung Kwan O area, and many new restaurants are opened. ABC Company wish to open a restaurant. Their requirements are given below:\n1. The company wishes to open Japanese style restaurant or steak house so that they don't need extra cost to setup the menu of another kind of food\n2. They want to bring something new to the community, i.e. the new restaurant will provide different kind of food that the local residents never tried in their home region.\n3. They want the restaurant's surrounding has sufficient electric EV charging locations.\n\nAfter solving the problem, we expect the results could provide information for determining:\n1. what kind of restaurant the company should open.\n2. where would the company open the restaurant.\n", 
            "cell_type": "markdown", 
            "metadata": {}
        }, 
        {
            "source": "#### A description of the data and how it will be used to solve the problem. (15 marks)", 
            "cell_type": "markdown", 
            "metadata": {}
        }, 
        {
            "source": "#### The Dataset", 
            "cell_type": "markdown", 
            "metadata": {}
        }, 
        {
            "source": "We will utilize the information from the following two datasets to solve the problem:\n\n1. First, we will use information by Foursquare API. It contains restaurant categories, location data (i.e. lat long), ratings and could be retrieved according to a given location of interest.\n2. Second, we will use the \"Electric vehicle charging station locations\" open dataset provided by the Hong Kong government. By giving a location, the location of the charging stations could be found. We could count  the number of nearby charging stations and this form part of the decision making criteria. The URL is: https://data.gov.hk/en-data/dataset/clp-team1-electric-vehicle-charging-location\n\n\n", 
            "cell_type": "markdown", 
            "metadata": {}
        }, 
        {
            "source": "", 
            "cell_type": "code", 
            "metadata": {}, 
            "outputs": [], 
            "execution_count": null
        }
    ], 
    "metadata": {
        "kernelspec": {
            "display_name": "Python 3.5", 
            "name": "python3", 
            "language": "python"
        }, 
        "language_info": {
            "mimetype": "text/x-python", 
            "nbconvert_exporter": "python", 
            "version": "3.5.5", 
            "name": "python", 
            "file_extension": ".py", 
            "pygments_lexer": "ipython3", 
            "codemirror_mode": {
                "version": 3, 
                "name": "ipython"
            }
        }
    }, 
    "nbformat": 4
}