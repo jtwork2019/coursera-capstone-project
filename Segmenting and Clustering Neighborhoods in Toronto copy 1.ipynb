{
    "nbformat_minor": 1, 
    "cells": [
        {
            "source": "# Peer-graded Assignment: Segmenting and Clustering Neighborhoods in Toronto", 
            "cell_type": "markdown", 
            "metadata": {}
        }, 
        {
            "source": "### Firstly, import the libraries", 
            "cell_type": "markdown", 
            "metadata": {}
        }, 
        {
            "execution_count": null, 
            "cell_type": "code", 
            "metadata": {}, 
            "outputs": [], 
            "source": "import numpy as np # library to handle data in a vectorized manner\n\nimport pandas as pd # library for data analsysis\npd.set_option('display.max_columns', None)\npd.set_option('display.max_rows', None)\n\nimport json # library to handle JSON files\n\n#!conda install -c conda-forge geopy --yes # uncomment this line if you haven't completed the Foursquare API lab\nfrom geopy.geocoders import Nominatim # convert an address into latitude and longitude values\n\nimport requests # library to handle requests\nfrom pandas.io.json import json_normalize # tranform JSON file into a pandas dataframe\n\n# Matplotlib and associated plotting modules\nimport matplotlib.cm as cm\nimport matplotlib.colors as colors\n\n# import k-means from clustering stage\nfrom sklearn.cluster import KMeans\n\n#!conda install -c conda-forge folium=0.5.0 --yes\nimport folium # map rendering library\n\nprint('Libraries imported.')"
        }, 
        {
            "source": "### scrape the following Wikipedia page, https://en.wikipedia.org/wiki/List_of_postal_codes_of_Canada:_M", 
            "cell_type": "markdown", 
            "metadata": {}
        }, 
        {
            "execution_count": null, 
            "cell_type": "code", 
            "metadata": {}, 
            "outputs": [], 
            "source": "from bs4 import BeautifulSoup\nimport urllib.request\n\nurl = 'https://en.wikipedia.org/wiki/List_of_postal_codes_of_Canada:_M'\nreq = urllib.request.urlopen(url)\narticle = req.read().decode()\n\nwith open('ISO_3166-1_alpha-2.html', 'w') as fo:\n    fo.write(article)\n    \nsoup = BeautifulSoup(article, 'html.parser')"
        }, 
        {
            "source": "### obtain the data that is in the table of postal codes and to transform the data into a pandas dataframe df", 
            "cell_type": "markdown", 
            "metadata": {}
        }, 
        {
            "execution_count": null, 
            "cell_type": "code", 
            "metadata": {}, 
            "outputs": [], 
            "source": "tables = soup.find_all('table', class_='sortable')\nfor table in tables:\n    ths = table.find_all('th')\n    headings = [th.text.strip() for th in ths]\n    if headings[:3] == ['Postcode', 'Borough', 'Neighbourhood']:\n        break"
        }, 
        {
            "execution_count": null, 
            "cell_type": "code", 
            "metadata": {}, 
            "outputs": [], 
            "source": "df = pd.DataFrame(columns=headings)\ni=0\n\nfor tr in table.find_all('tr'):\n        tds = tr.find_all('td')\n        if not tds:\n            continue\n        postcode, borough, neighbourhood = [td.text.strip() for td in tds[:3]]\n        \n        # Ignore cells with a borough that is Not assigned.\n        if 'Not assigned' in borough:\n            continue\n        # If a cell has a borough but a Not assigned neighborhood, \n        # then the neighborhood will be the same as the borough. \n        if 'Not assigned' in neighbourhood:\n            neighbourhood = borough\n        df.loc[i] = [postcode, borough, neighbourhood]\n        i=i+1"
        }, 
        {
            "execution_count": null, 
            "cell_type": "code", 
            "metadata": {}, 
            "outputs": [], 
            "source": "from functools import reduce\n\ndef to_set(x):\n    setx = set(x)\n    strs = ', '.join(setx)   \n    return strs\n\n#grouped = df.groupby(\"Postcode\").agg({'Neighbourhood': to_set})\n\ngrouped = df.groupby(\"Postcode\").agg({'Borough':'first', 'Neighbourhood': to_set})\n\ndf2 = df.drop(columns='Neighbourhood')\ngrouped = grouped.reset_index()\n\n#grouped = pd.merge(df2, grouped, how='inner', on='Postcode')\n\n    \n#grouped = pd.DataFrame({'Qty_cnt' : df['Borough'], grouped]\n\ngrouped[['Postcode','Borough','Neighbourhood']]"
        }, 
        {
            "source": "### In the last cell of your notebook, use the .shape method to print the number of rows of your dataframe.", 
            "cell_type": "markdown", 
            "metadata": {}
        }, 
        {
            "execution_count": null, 
            "cell_type": "code", 
            "metadata": {}, 
            "outputs": [], 
            "source": "grouped.shape"
        }, 
        {
            "source": "### Part 2:  get the latitude and the longitude coordinates of each neighborhood.", 
            "cell_type": "markdown", 
            "metadata": {}
        }, 
        {
            "execution_count": null, 
            "cell_type": "code", 
            "metadata": {}, 
            "outputs": [], 
            "source": "#!conda install -c conda-forge geocoder  #install geocoder for the 1st run\nimport geocoder # import geocoder"
        }, 
        {
            "execution_count": null, 
            "cell_type": "code", 
            "metadata": {}, 
            "outputs": [], 
            "source": "# Comment:\n# I tried to use geocoder, but the API seems not working, \n# so I choose to use the csv file instead\n#\n#nbh = 'Malvern, Rouge'\n#postal_code = 'M1B'\n#g = geocoder.google(nbh)\n#lat_lng_coords = g.latlng"
        }, 
        {
            "source": "### Import lat_lng_coords CSV, and show the complete dataframe", 
            "cell_type": "markdown", 
            "metadata": {}
        }, 
        {
            "execution_count": null, 
            "cell_type": "code", 
            "metadata": {}, 
            "outputs": [], 
            "source": "df_ll = pd.read_csv(\"https://cocl.us/Geospatial_data\")\n\n#latitude = lat_lng_coords[0]\n#longitude = lat_lng_coords[1]\ng2 = grouped[['Postcode','Borough','Neighbourhood']]\nd2 = df_ll.rename(index=str, columns={\"Postal Code\": \"Postcode\"})\ng2 = pd.merge(d2, g2, how='inner', on='Postcode')\n\ng2 = g2[['Postcode','Borough','Neighbourhood', 'Latitude', 'Longitude']]\ng2\n"
        }, 
        {
            "execution_count": null, 
            "cell_type": "code", 
            "metadata": {}, 
            "outputs": [], 
            "source": ""
        }, 
        {
            "execution_count": null, 
            "cell_type": "code", 
            "metadata": {}, 
            "outputs": [], 
            "source": ""
        }
    ], 
    "metadata": {
        "kernelspec": {
            "display_name": "Python 3.5", 
            "name": "python3", 
            "language": "python"
        }, 
        "language_info": {
            "mimetype": "text/x-python", 
            "nbconvert_exporter": "python", 
            "version": "3.5.5", 
            "name": "python", 
            "file_extension": ".py", 
            "pygments_lexer": "ipython3", 
            "codemirror_mode": {
                "version": 3, 
                "name": "ipython"
            }
        }
    }, 
    "nbformat": 4
}